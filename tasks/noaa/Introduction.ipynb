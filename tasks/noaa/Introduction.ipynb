{
 "cells": [
  {
   "cell_type": "markdown",
   "metadata": {},
   "source": [
    "# NOAA Data\n",
    "\n",
    "This notebooks shows how to use retrieve data from NOAA, there are two ways of doing so:\n",
    "\n",
    "- **By FTP**: It's the easier way, but it will download the bulk of the data(3Gb+), so it may take some time.\n",
    "- **By API**: It's the cleaner way, as it provides more granular access.\n",
    "\n",
    "Please note that in order to use the API, some required reference files will be downloaded too.\n",
    "\n",
    "\n",
    "## Using the FTP in Python\n",
    "\n",
    "To download the bulk of the files you just need to run the code in the cell below, it will download the files and extract the compressed ones:"
   ]
  },
  {
   "cell_type": "code",
   "execution_count": null,
   "metadata": {},
   "outputs": [],
   "source": [
    "from ftp import download_noaa_files, process_noaa_data\n",
    "\n",
    "download_noaa_files()"
   ]
  },
  {
   "cell_type": "markdown",
   "metadata": {},
   "source": [
    "Now that we have downloaded the files, in order to load the data from our local disk and retrieve a `pandas.DataFrame` with data, we just need to pass it to `process_noaa_files` with a list of FIPS codes for the countries we want data from.\n",
    "\n",
    "For more info FIPS codes, visit the wikipedia page: https://en.wikipedia.org/wiki/List_of_FIPS_country_codes"
   ]
  },
  {
   "cell_type": "code",
   "execution_count": null,
   "metadata": {},
   "outputs": [],
   "source": [
    "countries = ['FR'] # We use the FIPS code to identify the countries \n",
    "data = process_noaa_data(countries)"
   ]
  },
  {
   "cell_type": "markdown",
   "metadata": {},
   "source": [
    "This will return a `pandas.DataFrame` with the requested data.\n",
    "\n",
    "## Using the FTP with CLI\n",
    "\n",
    "These same operations can be done using the CLI, from the root of the repository, type:\n",
    "\n",
    "```\n",
    "python tasks/noaa -d\n",
    "```\n",
    "\n",
    "To download the data, once it's finished you **don't have to run it again**.\n",
    "\n",
    "To generate a csv files and store it in `output.csv` with the data for France you just need to type:\n",
    "\n",
    "```\n",
    "python tasks/noaa -c FR -o output.csv\n",
    "```\n",
    "\n",
    "in a more generic way, to generate a file `{FILENAME}` with data for a list of countries `{COUNTRIES}`, type:\n",
    "\n",
    "```\n",
    "python tasks/noaa -c {COUNTRIES} -o {FILENAME}\n",
    "```\n",
    "\n",
    "## Using the API\n",
    "\n",
    "To use the API, you just need to pass the list of countries and the start and end dates, you can see an example below:"
   ]
  },
  {
   "cell_type": "code",
   "execution_count": null,
   "metadata": {},
   "outputs": [],
   "source": [
    "from datetime import datetime\n",
    "from api import noaa_worldwide_api\n",
    "\n",
    "start_date = datetime(2020, 1, 1)\n",
    "end_date = datetime(2020, 1, 15)\n",
    "countries = ['FR']\n",
    "\n",
    "data = noaa_worldwide_api(countries, start_date, end_date)"
   ]
  }
 ],
 "metadata": {
  "kernelspec": {
   "display_name": "Python 3",
   "language": "python",
   "name": "python3"
  },
  "language_info": {
   "codemirror_mode": {
    "name": "ipython",
    "version": 3
   },
   "file_extension": ".py",
   "mimetype": "text/x-python",
   "name": "python",
   "nbconvert_exporter": "python",
   "pygments_lexer": "ipython3",
   "version": "3.6.9"
  }
 },
 "nbformat": 4,
 "nbformat_minor": 4
}
